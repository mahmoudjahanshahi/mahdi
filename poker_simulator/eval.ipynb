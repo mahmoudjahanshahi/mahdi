{
 "cells": [
  {
   "cell_type": "markdown",
   "metadata": {},
   "source": [
    "# Assignment #7 - Hand Evaluation\n",
    "\n",
    "The other part of the project that you will do is write some of the code to evaluate and compare hands.\n",
    "\n",
    "Your ultimate goal in this step is to write a function, which when passed two hands of cards, determines which one won (or if they tied). \n",
    "\n",
    "There are three major steps to determining who won:\n",
    "1. Figuring out what ranking each hand has (straight, flush, etc)\n",
    "2. Figuring out which 5 cards make up the hand (picking out the 5 cards that made the flush, or the two pairs and tiebreaker)\n",
    "3. Comparing the rankings, and if they are the same, breaking ties by comparing the values in the hands.\n",
    "\n",
    "At this point, you might be thinking that there is going to\n",
    "be a lot of code to write with all the different possible\n",
    "arrangements of cards and different possible hand rankings.\n",
    "However, there are a few important things that will make\n",
    "this managable:\n",
    "\n",
    "1. You will start by sorting the  cards into descending order by value. This makes it much easier to find straights (cards in order), and you will have \"N of a kind\"s grouped together.\n",
    "2. The code to find \"N of a kind\" is basically the same for 4, 3, and 2 (so we can abstract it out into a function...)\n",
    "3. Full house and two pair are just three of a kind and a pair (so we already have that code...) with another pair (so we can just write a function to find a secondary pair)\n",
    "4. We are going to make two simplifying assumptions:\n",
    "    - if there is a flush, it will occur in at most one suit. (i.e., you won't have As Ah Kh Qs 8s 7h 4s 3s 3h 2h, which has two different flushes).\n",
    "    - if there is an ace-high straight, there is not also an ace-low straight. (These both hold for all major poker variants)\n",
    "\n",
    "P.S. : from now on, for each function, you have to write your own test cases as it is one of the most important tasks for debugging your code."
   ]
  },
  {
   "cell_type": "markdown",
   "metadata": {},
   "source": [
    "### Task 1\n",
    "Complete all the tasks in previous assignments (cards and deck). Remember that the error you got about using the ipynb library is based on your working environment. You have to figure out how to solve it by searching for the error message and possible solutions."
   ]
  },
  {
   "cell_type": "markdown",
   "metadata": {},
   "source": [
    "### Task 2\n",
    "\n",
    "int flush_suit(deck hand);\n",
    "\n",
    "This function looks at the hand and determines if a flush (at least 5 cards of one suit) exists. If so, it returns the suit of the cards comprising the flush. If not, it returns 4 (recall that suits were represented by numbers 0 to 3). For example: Given Ks Qs 0s 9h 8s 7s, it would return 0 (SPADES). Given Kd Qd 0s 9h 8c 7c, it would return 4."
   ]
  },
  {
   "cell_type": "code",
   "execution_count": 2,
   "metadata": {},
   "outputs": [],
   "source": [
    "def flush_suit(hand):\n",
    "    my_list = []\n",
    "    for item in hand:\n",
    "        my_list.append(item[1])\n",
    "    count = 0\n",
    "    for item in my_list:\n",
    "        for item2 in my_list:\n",
    "            if(item==item2):\n",
    "                count+=1\n",
    "        if(count>=5):\n",
    "            return(item)\n",
    "        else:\n",
    "            count = -1\n",
    "    return 4"
   ]
  },
  {
   "cell_type": "markdown",
   "metadata": {},
   "source": [
    "Test you function:"
   ]
  },
  {
   "cell_type": "code",
   "execution_count": 7,
   "metadata": {},
   "outputs": [
    {
     "name": "stdout",
     "output_type": "stream",
     "text": [
      "0\n",
      "1\n",
      "2\n",
      "3\n",
      "4\n"
     ]
    }
   ],
   "source": [
    "hand = [[10,0],[9,0],[14,0],[11,0],[2,0]]\n",
    "print(flush_suit(hand))\n",
    "hand1 = [[10,1],[6,1],[9,1],[8,1],[14,1]]\n",
    "print(flush_suit(hand1))\n",
    "hand2 = [[10,2],[6,2],[5,2],[2,2],[14,2]]\n",
    "print(flush_suit(hand2))\n",
    "hand3 = [[10,3],[6,3],[8,3],[12,3],[9,3]]\n",
    "print(flush_suit(hand3))\n",
    "hand4 = [[8,2],[8,3],[2,2],[2,1],[8,3]]\n",
    "print(flush_suit(hand4))"
   ]
  },
  {
   "cell_type": "markdown",
   "metadata": {},
   "source": [
    "### Task 3\n",
    "\n",
    "list get_match_counts(deck hand);\n",
    "\n",
    "Given a hand of cards, this function returns an array of ints with as many elements as there are cards in the hand. It fills in this array with the \"match counts\" of the corresponding cards. That is, for each card in the original hand, the value in the match count array is how many times a card of the same value appears in the hand. For example, given (Ks Kh Qs Qh 0s 9d 9c 9h) This function would return [2, 2, 2, 2, 1, 3, 3, 3) because there are 2 kings, 2 queens, 1 ten, and 3 nines."
   ]
  },
  {
   "cell_type": "code",
   "execution_count": 3,
   "metadata": {},
   "outputs": [],
   "source": [
    "def get_match_counts(hand):\n",
    "    list_1 = []\n",
    "    match_counts = []\n",
    "    for item in hand:\n",
    "        list_1.append(item[0])\n",
    "    for item in list_1:\n",
    "        count = 0\n",
    "        for character in list_1:\n",
    "            if (character==item):\n",
    "                count+=1\n",
    "        match_counts.append(count)\n",
    "    return match_counts "
   ]
  },
  {
   "cell_type": "markdown",
   "metadata": {},
   "source": [
    "Test you function:"
   ]
  },
  {
   "cell_type": "code",
   "execution_count": 15,
   "metadata": {},
   "outputs": [
    {
     "data": {
      "text/plain": [
       "[3, 3, 2, 2, 3]"
      ]
     },
     "execution_count": 15,
     "metadata": {},
     "output_type": "execute_result"
    }
   ],
   "source": [
    "hand = [[8,2],[8,3],[2,2],[2,1],[8,3]]\n",
    "get_match_counts(hand)"
   ]
  },
  {
   "cell_type": "markdown",
   "metadata": {},
   "source": [
    "#### Task 4\n",
    "\n",
    "int get_match_index(list match_counts, int n_of_akind);\n",
    "\n",
    "This function returns the index in the array (match_counts) whose value is n_of_akind. The array match_counts may have multiple values equal to n_of_akind. You should return the LOWEST index whose value is n_of_akind [which also guarantees it corresponds to the largest valued cards, since they will be sorted]. (Once you figure out the best n_of_akind above, you will use this to locate that group of cards in the hand). Note that it is guaranteed that n_of_akind is in match_counts. If not, you should abort as this is evidence of an error."
   ]
  },
  {
   "cell_type": "code",
   "execution_count": 9,
   "metadata": {},
   "outputs": [],
   "source": [
    "def get_match_index(match_counts, n_of_akind):\n",
    "    match_idx = match_counts.index(n_of_akind)\n",
    "    return match_idx"
   ]
  },
  {
   "cell_type": "markdown",
   "metadata": {},
   "source": [
    "Test your function:"
   ]
  },
  {
   "cell_type": "code",
   "execution_count": 12,
   "metadata": {},
   "outputs": [
    {
     "name": "stdout",
     "output_type": "stream",
     "text": [
      "0\n",
      "1\n"
     ]
    }
   ],
   "source": [
    "match_counts1 = [2, 2, 2, 1, 2]\n",
    "print(get_match_index(match_counts1,2))\n",
    "match_counts2 = [1,2,3,1,2]\n",
    "print(get_match_index(match_counts2,2))"
   ]
  },
  {
   "cell_type": "markdown",
   "metadata": {},
   "source": [
    "### Task 5\n",
    "\n",
    "int find_secondary_pair(deck hand, list match_counts, int match_idx);\n",
    "\n",
    "When you have a hand with 3 of a kind or a pair, you will want to look and see if there is another pair to make the hand into a full house or or two pairs. This function takes in the hand, the match counts from before, and the index where the original match (3 of a kind or pair) was found. It should find the index of a card meeting the following conditions:\n",
    "- Its match count is > 1 [so there is at least a pair of them]\n",
    "- The card's value is not the same as the value of the card at match_idx (so it is not part of the original three of a kind/pair)\n",
    "- It is the lowest index meeting the first two conditions (which will be the start of that pair, and the highest value pair other than the original match).\n",
    "\n",
    "If no such index can be found, this function should return -1."
   ]
  },
  {
   "cell_type": "code",
   "execution_count": 7,
   "metadata": {},
   "outputs": [],
   "source": [
    "def sith(hand,match_idx):\n",
    "    a = hand[match_idx]\n",
    "    return a[0]"
   ]
  },
  {
   "cell_type": "code",
   "execution_count": 13,
   "metadata": {},
   "outputs": [],
   "source": [
    "def find_secondary_pair(hand, match_counts, match_idx):\n",
    "    a = sith(hand,match_idx)\n",
    "    n = []\n",
    "    mc = []\n",
    "    index = 0\n",
    "    for item in match_counts:\n",
    "        b = sith(hand,index)\n",
    "        if(b==a):\n",
    "            n.append(index)\n",
    "        index+=1\n",
    "    index = 0\n",
    "    for item in match_counts:\n",
    "        if(item==2 and index not in n):\n",
    "            return index\n",
    "        else:\n",
    "            index+=1\n",
    "    return -1"
   ]
  },
  {
   "cell_type": "markdown",
   "metadata": {},
   "source": [
    "Test your function:"
   ]
  },
  {
   "cell_type": "code",
   "execution_count": 14,
   "metadata": {},
   "outputs": [
    {
     "data": {
      "text/plain": [
       "2"
      ]
     },
     "execution_count": 14,
     "metadata": {},
     "output_type": "execute_result"
    }
   ],
   "source": [
    "hand = [[8,2],[8,3],[2,2],[2,1],[8,]]\n",
    "match_counts = [3, 3, 2, 2, 3]\n",
    "find_secondary_pair(hand,match_counts,0)"
   ]
  },
  {
   "cell_type": "markdown",
   "metadata": {},
   "source": [
    "### Task 6\n",
    "\n",
    "int is_straight_at(deck hand, int index, int fsuit);\n",
    "\n",
    "This function should determine if there is a straight starting at index (and only starting at index) in the given hand. If fsuit is 4, then it should look for any straight. If fsuit is some other value, then it should look for a straight flush in the specified suit. This function should return:\n",
    "- -1 if an Ace-low straight was found at that index (and that index is the Ace)\n",
    "- 0 if no straight was found at that index\n",
    "- 1 if any other straight was found at that index\n",
    "\n",
    "When writing this function, you can assume that the hand is sorted by value: the   values of cards will appear in descending order (A K Q ... 4 3 2).  \n",
    "There are two things that make this function tricky (probably the trickiest function in this assignment):\n",
    "1. Ace low straights. An Ace low straight will appear in the hand with the Ace first, then possibly some other cards, then the 5 4 3 2.  For example, you might have As Ks Qc 5s 4c 3d 2c\n",
    "2. You may have multiple cards with the same value, but still have a straight: As Ac Ks Kc Qh Jh 0d has a straight even though A K Q do not appear next to each other in our sorted order.  \n",
    "Hint: I made this easier on myself, by writing two helper functions:\n",
    "  - int is_n_length_straight_at(deck hand, int index, int fsuit, int n); and\n",
    "  - int is_ace_low_straight_at(deck hand, int index, int fsuit);\n",
    "\n",
    "The second of these lets me pull out the complexities of an ace low straight. However, in doing so, I realized that there would be a lot of duplication of code between the ace low straight helper and the original function (for an ace low, you want to find a 5, then a straight of length 4: 5, 4, 3, 2). This realization caused me to pull out much of the code into is_n_length_straight_at, so that I could call it with n=4 to search for the 5,4,3,2 part of an ace low straight."
   ]
  },
  {
   "cell_type": "code",
   "execution_count": 3,
   "metadata": {},
   "outputs": [],
   "source": [
    "def straight(hand):\n",
    "    my_list = []\n",
    "    for item in hand:\n",
    "        my_list.append(item[0])\n",
    "    for n in my_list:\n",
    "        if(n+1 in my_list and n+2 in my_list and n+3 in my_list and n+4 in my_list):\n",
    "            return True\n",
    "    return False"
   ]
  },
  {
   "cell_type": "code",
   "execution_count": 22,
   "metadata": {},
   "outputs": [],
   "source": [
    "def ace_straight(hand):\n",
    "    my_list = []\n",
    "    list_2 = []\n",
    "    for item in hand:\n",
    "        my_list.append(item[0])\n",
    "    for item in my_list:\n",
    "        if(item==14):\n",
    "            list_2.append(1)\n",
    "        else:\n",
    "            list_2.append(item)\n",
    "    print(list_2)\n",
    "    for n in list_2:\n",
    "        if(n!=1):\n",
    "            continue\n",
    "        else:\n",
    "            if(2 in list_2 and 3 in list_2 and 4 in list_2 and 5 in list_2):\n",
    "                return True\n",
    "    return False"
   ]
  },
  {
   "cell_type": "code",
   "execution_count": 11,
   "metadata": {},
   "outputs": [],
   "source": [
    "def is_straight_at(hand, index, fsuit):\n",
    "    if(straight(hand)):\n",
    "        return 1\n",
    "    elif(ace_straight(hand)):\n",
    "        return -1\n",
    "    else:\n",
    "        return 0"
   ]
  },
  {
   "cell_type": "markdown",
   "metadata": {},
   "source": [
    "Test your function:"
   ]
  },
  {
   "cell_type": "code",
   "execution_count": 25,
   "metadata": {},
   "outputs": [
    {
     "data": {
      "text/plain": [
       "1"
      ]
     },
     "execution_count": 25,
     "metadata": {},
     "output_type": "execute_result"
    }
   ],
   "source": [
    "hand = [[2,2],[3,3],[4,2],[5,1],[6,3]]\n",
    "is_straight_at(hand,1,4)"
   ]
  }
 ],
 "metadata": {
  "interpreter": {
   "hash": "5ca9ed6372d9e6da2cb641c548daf25f203b603dee67c138e0782a0e91e966e5"
  },
  "kernelspec": {
   "display_name": "Python 3 (ipykernel)",
   "language": "python",
   "name": "python3"
  },
  "language_info": {
   "codemirror_mode": {
    "name": "ipython",
    "version": 3
   },
   "file_extension": ".py",
   "mimetype": "text/x-python",
   "name": "python",
   "nbconvert_exporter": "python",
   "pygments_lexer": "ipython3",
   "version": "3.9.12"
  }
 },
 "nbformat": 4,
 "nbformat_minor": 4
}
