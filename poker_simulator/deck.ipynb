{
 "cells": [
  {
   "cell_type": "markdown",
   "metadata": {},
   "source": [
    "# Assignment #6 - deck\n",
    "\n",
    "Recall that we are representing each card(c_l) as a list of [value, suit]. Now we can define a new struct for deck/hand that consists of some cards. We'll use the same type for a deck of cards or a hand of cards, since both are just a set of cards. We will be representing decks and hands as a list of cards, that is:\n",
    "\n",
    "hand_1 = [c_l_1, c_l_2, ... , c_l_n]  \n",
    "deck = [c_l_1, c_l_2, ... , c_l_n]"
   ]
  },
  {
   "cell_type": "markdown",
   "metadata": {},
   "source": [
    "### Task 1\n",
    "In cards assignment, use your assert_card valid function in your cards_from_letters, card_from_num and print_card  functions to make sure the card is in the correct format."
   ]
  },
  {
   "cell_type": "markdown",
   "metadata": {},
   "source": [
    "rom ipynb.fs.full.a import factorial### Task 2\n",
    "write the function print_hand(hand)\n",
    "\n",
    "This should print out the contents of a hand. It should print each card (recall that you already wrote print_card in cards.ipynb), and a space after each card.  Do not put a newline after the hand, as this function gets called to print a hand in the middle of a line of output.\n",
    "\n",
    "To load a function from your last work, you can run the following:  \n",
    "from ipynb.fs.defs.cards import your_function_name"
   ]
  },
  {
   "cell_type": "code",
   "execution_count": null,
   "metadata": {},
   "outputs": [],
   "source": []
  },
  {
   "cell_type": "code",
   "execution_count": 19,
   "metadata": {},
   "outputs": [],
   "source": [
    "import import_ipynb\n",
    "import cards\n",
    "def print_hand(hand):\n",
    "    for c_l in hand:\n",
    "        p = assert_card_valid\n",
    "        if(p==False):\n",
    "            return False\n",
    "        else:\n",
    "            print_card(c_l)"
   ]
  },
  {
   "cell_type": "markdown",
   "metadata": {},
   "source": [
    "Test your function:"
   ]
  },
  {
   "cell_type": "code",
   "execution_count": 21,
   "metadata": {},
   "outputs": [
    {
     "name": "stdout",
     "output_type": "stream",
     "text": [
      "2s\n",
      "8s\n",
      "0h\n",
      "Js\n",
      "Kc\n",
      "4d\n",
      "9h\n",
      "\n",
      "Qh\n",
      "6c\n",
      "5h\n",
      "\n",
      "0c\n",
      "7d\n",
      "9c\n",
      "4s\n",
      "\n"
     ]
    }
   ],
   "source": [
    "#do not change anything in this cell\n",
    "for hand in [ \n",
    "    [[2,0], [8,0], [10,1], [11,0], [13,3], [4,2], [9,1]],\n",
    "    [[12,1], [6,3], [5,1]], \n",
    "    [[10,3], [7,2], [9,3], [4,0]]]:\n",
    "    print_hand(hand)\n",
    "    print()"
   ]
  },
  {
   "cell_type": "markdown",
   "metadata": {},
   "source": [
    "### Task 3\n",
    "write the function deck_contains(deck, c_l); (recall that deck and hand have the same structure, they both consist of cards)\n",
    "\n",
    "This function should check if a deck contains a particular card or not.  If the deck does contain the card, this function should return True. Otherwise, it should return False. (You will use this later to build the deck of remaining cards which are not in any player's hand)."
   ]
  },
  {
   "cell_type": "code",
   "execution_count": 27,
   "metadata": {},
   "outputs": [],
   "source": [
    "def deck_contains(deck, c_l):\n",
    "    if c_l in deck:\n",
    "        return True\n",
    "    else:\n",
    "        return False"
   ]
  },
  {
   "cell_type": "markdown",
   "metadata": {},
   "source": [
    "Test your function:"
   ]
  },
  {
   "cell_type": "code",
   "execution_count": 29,
   "metadata": {},
   "outputs": [
    {
     "name": "stdout",
     "output_type": "stream",
     "text": [
      "True\n",
      "False\n",
      "True\n"
     ]
    }
   ],
   "source": [
    "#do not change anything in this cell\n",
    "for deck in [ \n",
    "    [[2,0], [8,0], [10,1], [11,0], [13,3], [7,2], [9,1]],\n",
    "    [[12,1], [6,3], [5,1]], \n",
    "    [[10,3], [7,2], [9,3], [4,0]]]:\n",
    "    print(deck_contains(deck,[7,2]))"
   ]
  },
  {
   "cell_type": "markdown",
   "metadata": {},
   "source": [
    "### Task 4\n",
    "Write the function shuffle(deck)\n",
    "\n",
    "This function takes in a deck an shuffles it, randomly permuting the order of the cards. There are MANY valid ways to shuffle a deck of cards---I'll leave the specifics of the algorithm design up to you. However, you will want to use a function to generate pseudo-random numbers. Several packages offer random generating functions and you are free to choose any of them. For example, numpy is a useful package which also has [random generation functions](https://numpy.org/doc/1.16/reference/routines.random.html). You should take a small number of cards, and think about ways to shuffle them that involve using random numbers to swap their order, or pick positions for them, or similar principles."
   ]
  },
  {
   "cell_type": "code",
   "execution_count": 25,
   "metadata": {},
   "outputs": [],
   "source": [
    "import random as ra\n",
    "def shuffle(deck):\n",
    "    r = ra.shuffle(deck)\n",
    "    return r"
   ]
  },
  {
   "cell_type": "markdown",
   "metadata": {},
   "source": [
    "Test your function:"
   ]
  },
  {
   "cell_type": "code",
   "execution_count": 47,
   "metadata": {},
   "outputs": [
    {
     "name": "stdout",
     "output_type": "stream",
     "text": [
      "Not a good shuffle in deck:\n",
      " [[7, 3], [6, 0], [5, 2], [10, 0], [8, 0], [2, 1], [13, 1], [11, 3], [11, 2], [12, 0]]\n",
      "Not a good shuffle in deck:\n",
      " [[3, 1], [5, 3], [2, 2], [3, 1], [7, 1], [12, 3], [2, 0], [4, 3], [7, 3], [10, 3], [2, 3], [14, 0], [9, 0]]\n",
      "Not a good shuffle in deck:\n",
      " [[10, 3], [14, 0], [8, 0], [2, 1], [6, 3], [3, 0], [7, 2], [12, 0], [3, 1], [4, 2], [13, 2], [14, 0], [3, 0], [3, 0]]\n",
      "Not a good shuffle in deck:\n",
      " [[11, 1], [6, 0], [9, 0], [2, 0], [2, 0], [12, 0], [3, 2], [3, 3], [5, 0], [10, 2], [14, 3], [9, 2], [4, 0], [13, 0], [10, 3]]\n",
      "Not a good shuffle in deck:\n",
      " [[3, 2], [14, 1], [14, 3], [14, 0], [9, 1], [2, 3], [12, 2], [14, 3], [3, 3], [5, 0], [7, 3], [6, 1], [10, 0], [2, 0], [10, 0], [4, 3]]\n",
      "Not a good shuffle in deck:\n",
      " [[5, 3], [9, 0], [11, 1], [8, 1], [14, 1], [7, 2], [2, 0], [14, 0], [10, 1], [6, 3], [14, 1], [14, 3], [12, 0], [5, 1], [6, 3], [12, 3], [14, 3], [5, 2]]\n",
      "Not a good shuffle in deck:\n",
      " [[2, 0], [14, 3], [7, 2], [6, 0], [4, 3], [8, 3], [4, 2], [11, 3], [9, 1], [14, 2], [11, 0], [11, 3], [11, 1], [7, 3], [14, 0], [12, 3], [8, 1], [4, 1], [6, 1]]\n",
      "Not a good shuffle in deck:\n",
      " [[7, 0], [7, 2], [3, 3], [3, 0], [12, 0], [5, 2], [14, 0], [3, 3], [11, 3], [4, 0], [3, 2], [7, 3], [4, 2], [14, 0], [13, 3], [13, 3], [9, 2], [7, 2], [5, 1], [7, 0], [14, 2], [12, 2], [6, 2]]\n",
      "Not a good shuffle in deck:\n",
      " [[5, 0], [4, 1], [9, 0], [2, 2], [9, 0], [14, 2], [8, 0], [3, 0], [14, 1], [10, 2], [10, 1], [13, 3], [14, 0], [2, 3], [14, 2], [14, 0], [14, 2], [5, 3], [14, 2], [5, 0], [9, 0], [13, 2], [11, 3], [11, 1], [11, 1], [14, 1], [2, 2], [14, 1], [3, 3], [10, 2], [8, 1], [2, 2], [10, 2], [14, 3], [12, 2], [9, 0]]\n",
      "Not a good shuffle in deck:\n",
      " [[5, 1], [10, 0], [11, 1], [3, 2], [12, 2], [2, 3], [5, 0], [11, 3], [9, 2], [2, 1], [7, 2], [5, 0], [9, 2], [11, 3], [12, 1], [7, 0], [11, 3], [6, 3], [4, 1], [7, 1], [12, 2], [11, 0], [4, 1], [2, 1], [8, 2], [3, 3], [10, 3], [12, 1], [8, 3], [7, 1], [12, 3], [6, 1], [7, 2], [2, 3], [6, 3], [12, 1], [5, 2], [14, 2], [14, 3], [8, 3], [5, 0], [14, 2], [11, 1], [5, 1], [13, 3], [4, 1], [13, 1]]\n"
     ]
    }
   ],
   "source": [
    "#do not change anything in this cell\n",
    "import numpy as np\n",
    "np.random.seed(3)\n",
    "decks = []\n",
    "for i in range(10,53):\n",
    "    deck = []\n",
    "    for j in range (i):\n",
    "        card = [np.random.randint(2,15),np.random.randint(0,4)]\n",
    "        deck.append(card)\n",
    "    decks.append(deck)\n",
    "for deck in decks:\n",
    "    deck_1 = deck.copy()\n",
    "    shuffle(deck)\n",
    "    deck_2 = deck.copy()\n",
    "    diff1 = 0\n",
    "    diff2 = 0\n",
    "    for i in range(len(deck)):\n",
    "        if (deck_1[i] != deck_2[i]):\n",
    "            diff1 += 1\n",
    "        if (i+1 < len(deck) and deck_1[i] != deck_2[i+1]):\n",
    "            diff2 += 1\n",
    "    if (diff1 < len(deck)*9//10 or diff2 < len(deck)*9//10):\n",
    "        print(\"Not a good shuffle in deck:\\n\", deck)"
   ]
  },
  {
   "cell_type": "code",
   "execution_count": 48,
   "metadata": {},
   "outputs": [
    {
     "name": "stdout",
     "output_type": "stream",
     "text": [
      "Not a very good shuffle!\n"
     ]
    }
   ],
   "source": [
    "#do not change anything in this cell\n",
    "base_hand = [[2,0], [8,0], [10,1], [11,0], [13,3]]\n",
    "hand = base_hand.copy()\n",
    "counts = {}\n",
    "for i in range(5000000):\n",
    "    shuffle(hand)\n",
    "    order = \"\"\n",
    "    for j in range(5):\n",
    "        for k in range(5):\n",
    "            if (hand[j] == base_hand[k]):\n",
    "                order = order + str(k)\n",
    "                continue\n",
    "    counts[order] = counts.get(order,0)+1\n",
    "n = 0\n",
    "for v in counts.values():\n",
    "    if (v-4166 > 80):\n",
    "        n += 1\n",
    "if (n > 1):\n",
    "    print(\"Not a very good shuffle!\")\n",
    "else:\n",
    "    print(\"Nice job, very good shuffle!\")"
   ]
  },
  {
   "cell_type": "markdown",
   "metadata": {},
   "source": [
    "### Task 5\n",
    "function assert_full_deck(deck);\n",
    "\n",
    "This function should check that the passed in deck contains ever valid card exactly once.  If the deck has any problems, this function should fail an assert (return false). This will be used to help you test your deck shuffling: we will shuffle a full deck, then call assert_full_deck, so that you can identfiy problems with the deck. You can print any error messages you want if there is a problem.\n",
    "Hint: you already wrote deck_contains."
   ]
  },
  {
   "cell_type": "code",
   "execution_count": 23,
   "metadata": {},
   "outputs": [],
   "source": [
    "def assert_full_deck(deck):\n",
    "    if(len(deck)!=52):\n",
    "        return False\n",
    "    for item in deck:\n",
    "        c = deck.count(item)\n",
    "        if(c!=1):\n",
    "            return False\n",
    "    return True"
   ]
  },
  {
   "cell_type": "markdown",
   "metadata": {},
   "source": [
    "Test your function:"
   ]
  },
  {
   "cell_type": "code",
   "execution_count": 26,
   "metadata": {},
   "outputs": [
    {
     "name": "stdout",
     "output_type": "stream",
     "text": [
      "Test 1, should be true:  True\n",
      "Test 2, should be true:  True\n",
      "Test 3, should be true:  True\n",
      "Test 4, should be true:  True\n",
      "Test 5, should be false:  False\n"
     ]
    }
   ],
   "source": [
    "#do not change anything in this cell\n",
    "import import_ipynb\n",
    "import cards\n",
    "deck = []\n",
    "for i in range(52):\n",
    "    deck.append(card_from_num(i))\n",
    "print(\"Test 1, should be true: \",assert_full_deck(deck))\n",
    "shuffle(deck)\n",
    "print(\"Test 2, should be true: \",assert_full_deck(deck))\n",
    "shuffle(deck)\n",
    "print(\"Test 3, should be true: \",assert_full_deck(deck))\n",
    "shuffle(deck)\n",
    "print(\"Test 4, should be true: \",assert_full_deck(deck))\n",
    "deck.remove(deck[10])\n",
    "print(\"Test 5, should be false: \",assert_full_deck(deck))\n"
   ]
  }
 ],
 "metadata": {
  "interpreter": {
   "hash": "916dbcbb3f70747c44a77c7bcd40155683ae19c65e1c03b4aa3499c5328201f1"
  },
  "kernelspec": {
   "display_name": "Python 3 (ipykernel)",
   "language": "python",
   "name": "python3"
  },
  "language_info": {
   "codemirror_mode": {
    "name": "ipython",
    "version": 3
   },
   "file_extension": ".py",
   "mimetype": "text/x-python",
   "name": "python",
   "nbconvert_exporter": "python",
   "pygments_lexer": "ipython3",
   "version": "3.9.12"
  }
 },
 "nbformat": 4,
 "nbformat_minor": 4
}
