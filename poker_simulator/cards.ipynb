{
 "cells": [
  {
   "cell_type": "markdown",
   "metadata": {},
   "source": [
    "# Assignment #5 - cards\n",
    "\n",
    "In a poker game, we have 52 individual cards. Each card has a **value** and a **suit**.\n",
    "Values can be between 2 to 14 inclusive. 11 corresponds to Jack, 12 to Queen, 13 to King and 14 to Ace.  \n",
    "There are 4 suits, being **clubs**, **diamonds**, **hearts** and **spades**.  \n",
    "\n",
    "From now on, we will represent each card in three ways, by a number between 1 and 52 (c_n), by a list of [value, suit] (c_l) or by a string of value and suit concatenated (c_s).  \n",
    "In 52 number representation (0 - 51), the first 13 cards will be Spades, the second 13 Hearts, the third 13 Diamonds and the 4th Clubs.  \n",
    "In list representation, values are represented by a number between 2 to 14 and suits with a number between 0 to 3. corresponding to the order spades, hearts, diamonds and clubs.  \n",
    "In string representation, we have exactly one symbol for the value and one for the suits. For values, 0 corresponds to 10, J to Jack, Q to Queen, K to King and A to Ace. For suits, s corresponds to Spades, h to Hearts, d to Diamonds and c to Clubs.  \n",
    "\n",
    "For example:  \n",
    "- 8 of spades can be represented as: c_n = 6 or c_l = [8 , 0] or c_s = \"8s\"\n",
    "- Queen of hearts: c_n = 23 , c_l = [12 , 1] , c_s = “Qh”\n",
    "- 10 of clubs: c_n = 47 , c_l = [10, 3] , c_s = “0c”"
   ]
  },
  {
   "cell_type": "markdown",
   "metadata": {},
   "source": [
    "write the function assert_card_valid(c_l);\n",
    "\n",
    "This function should check that the card passed in has valid values. In particular, its value should be between 2 and 14 (inclusive of both), and its suit should be between 0 and 3 (inclusive of both). If it is not valid, it should print an error message."
   ]
  },
  {
   "cell_type": "code",
   "execution_count": 20,
   "metadata": {},
   "outputs": [],
   "source": [
    "def assert_card_valid(c_l):\n",
    "    if(c_l[0]>14 or c_l[0]<2):\n",
    "        return False\n",
    "    elif(c_l[1]<0 or c_l[1]>3):\n",
    "        return False\n",
    "    else:\n",
    "        return True"
   ]
  },
  {
   "cell_type": "markdown",
   "metadata": {},
   "source": [
    "Test your function:"
   ]
  },
  {
   "cell_type": "code",
   "execution_count": 22,
   "metadata": {},
   "outputs": [
    {
     "name": "stdout",
     "output_type": "stream",
     "text": [
      "True\n",
      "True\n",
      "False\n",
      "True\n",
      "True\n",
      "False\n"
     ]
    }
   ],
   "source": [
    "for c_l in [[8,0], [10,1], [0,0], [13,3], [14,2], [9,4]]:\n",
    "    print(assert_card_valid(c_l))"
   ]
  },
  {
   "cell_type": "markdown",
   "metadata": {},
   "source": [
    "Write the function card_from_letters(c_s);  \n",
    "\n",
    "This function should make and return a c_l whose value and suit correspond to the c_s passed in. If the values passed in are invalid, you should print an error message and return."
   ]
  },
  {
   "cell_type": "code",
   "execution_count": 23,
   "metadata": {},
   "outputs": [],
   "source": [
    "def card_from_letters(c_s):\n",
    "    d = {'0':10,'J':11,'Q':12,'K':13,'A':14}\n",
    "    d2 = {'s':0,'h':1,'d':2,'c':3}\n",
    "    output_list = []\n",
    "    if(c_s[0] in d.keys()):\n",
    "        output_list.append(d[c_s[0]])\n",
    "    elif(int(c_s[0]) in range(2,10)):\n",
    "        output_list.append(int(c_s[0]))\n",
    "    else:\n",
    "        return False\n",
    "    if(c_s[1] not in d2.keys()):\n",
    "        return False\n",
    "    else:\n",
    "        output_list.append(d2[c_s[1]])\n",
    "    return output_list"
   ]
  },
  {
   "cell_type": "markdown",
   "metadata": {},
   "source": [
    "Test you function:"
   ]
  },
  {
   "cell_type": "code",
   "execution_count": 24,
   "metadata": {},
   "outputs": [
    {
     "name": "stdout",
     "output_type": "stream",
     "text": [
      "[8, 0]\n",
      "[12, 1]\n",
      "[10, 3]\n",
      "False\n",
      "False\n",
      "[3, 1]\n"
     ]
    }
   ],
   "source": [
    "for c_s in [\"8s\", \"Qh\", \"0c\", \"1d\", \"7e\", \"3h\"]:\n",
    "    c_l = (card_from_letters(c_s))\n",
    "    print(c_l)"
   ]
  },
  {
   "cell_type": "markdown",
   "metadata": {},
   "source": [
    "Write the function card_from_num(c_n);\n",
    "\n",
    "This function should take a number from 0 (inclusive) to 52 (exclusive) and map it uniquely to a card value/suit combination. You must guarantee that each valid value/suit combination corresponds to exactly one input value in the range [0,52)."
   ]
  },
  {
   "cell_type": "code",
   "execution_count": 2,
   "metadata": {},
   "outputs": [
    {
     "data": {
      "text/plain": [
       "'george'"
      ]
     },
     "execution_count": 2,
     "metadata": {},
     "output_type": "execute_result"
    }
   ],
   "source": [
    "def get_key(d,v):\n",
    "    return(list(d.keys())[list(d.values()).index(v)])\n",
    "mydict = {'george': 16, 'amber': 19}\n",
    "get_key(mydict,16)"
   ]
  },
  {
   "cell_type": "code",
   "execution_count": 18,
   "metadata": {},
   "outputs": [],
   "source": [
    "def card_from_num(c_n):\n",
    "    d = {'s':0,'h':13,'d':26,'c':39}\n",
    "    d2 = {'s':0,'h':1,'d':2,'c':3}\n",
    "    ol = []\n",
    "    c = 0\n",
    "    for number in d.values():\n",
    "        if(c_n in range(number,number+13)):\n",
    "            key = get_key(d,number)\n",
    "            sato = d2[key]\n",
    "        else:\n",
    "            c+=1\n",
    "    if(c==4):\n",
    "        return False\n",
    "    sato2 = (c_n +2) - d[key]\n",
    "    ol.append(sato2)\n",
    "    ol.append(sato)\n",
    "    return ol"
   ]
  },
  {
   "cell_type": "markdown",
   "metadata": {},
   "source": [
    "Test your function:"
   ]
  },
  {
   "cell_type": "code",
   "execution_count": 19,
   "metadata": {},
   "outputs": [
    {
     "name": "stdout",
     "output_type": "stream",
     "text": [
      "[8, 0]\n",
      "[12, 1]\n",
      "[10, 3]\n",
      "False\n",
      "[2, 0]\n",
      "[14, 0]\n",
      "[2, 1]\n"
     ]
    }
   ],
   "source": [
    "for c_n in [6, 23, 47, 52, 0, 12, 13]:\n",
    "    c_l = card_from_num(c_n)\n",
    "    print(c_l)"
   ]
  },
  {
   "cell_type": "markdown",
   "metadata": {},
   "source": [
    "Write the print_card(c_l);\n",
    "\n",
    "This function should print out the textual representation of the card. It should print the value first, then the suit. For example:\n",
    "- As  (for Ace of spades)\n",
    "- 0d  (for 10 of diamonds)\n",
    "- Kc  (for King of clubs) etc.  \n",
    "\n",
    "This function should not print any additional spaces or newlines after the card's text. (hint: use end argument in print function)"
   ]
  },
  {
   "cell_type": "code",
   "execution_count": 14,
   "metadata": {},
   "outputs": [],
   "source": [
    "def get_key(d,item):\n",
    "    return(list(d.keys())[list(d.values()).index(item)])"
   ]
  },
  {
   "cell_type": "code",
   "execution_count": 15,
   "metadata": {},
   "outputs": [],
   "source": [
    "def print_card(c_l):\n",
    "    d = {'0':10,'J':11,'Q':12,'K':13,'A':14}\n",
    "    d2 = {'s':0,'h':1,'d':2,'c':3}\n",
    "    os = ''\n",
    "    if(c_l[0] in d.values()):\n",
    "        os+=get_key(d,c_l[0])\n",
    "    elif(int(c_l[0]) in range(2,10)):\n",
    "        os+=str(c_l[0])\n",
    "    if(c_l[1] in d2.values()):\n",
    "        os+=get_key(d2,c_l[1])\n",
    "    else:\n",
    "        return False\n",
    "    print (os)"
   ]
  },
  {
   "cell_type": "markdown",
   "metadata": {},
   "source": [
    "Test your function:"
   ]
  },
  {
   "cell_type": "code",
   "execution_count": 16,
   "metadata": {},
   "outputs": [
    {
     "name": "stdout",
     "output_type": "stream",
     "text": [
      "8s\n",
      "0h\n",
      "s\n",
      "Kc\n",
      "4d\n",
      "9h\n"
     ]
    }
   ],
   "source": [
    "for c_l in [[8,0], [10,1], [0,0], [13,3], [4,2], [9,1]]:\n",
    "    print_card(c_l)"
   ]
  }
 ],
 "metadata": {
  "interpreter": {
   "hash": "f761e40836371916778f6d290f70f71c9443070a9883ab531453e53ce81b51d8"
  },
  "kernelspec": {
   "display_name": "Python 3 (ipykernel)",
   "language": "python",
   "name": "python3"
  },
  "language_info": {
   "codemirror_mode": {
    "name": "ipython",
    "version": 3
   },
   "file_extension": ".py",
   "mimetype": "text/x-python",
   "name": "python",
   "nbconvert_exporter": "python",
   "pygments_lexer": "ipython3",
   "version": "3.9.12"
  }
 },
 "nbformat": 4,
 "nbformat_minor": 4
}
